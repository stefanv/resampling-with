{
 "cells": [
  {
   "cell_type": "markdown",
   "metadata": {},
   "source": [
    "A simple place to start is the *comment*. A comment is a statement that\n",
    "the computer will *ignore*. It is text that we put in the program for\n",
    "our benefit, to explain what is going on to a human reader.\n",
    "\n",
    "This is an example of a comment:"
   ]
  },
  {
   "cell_type": "code",
   "execution_count": null,
   "metadata": {},
   "outputs": [],
   "source": [
    "# This is a comment. It doesn't have any effect."
   ]
  },
  {
   "cell_type": "markdown",
   "metadata": {},
   "source": [
    "The comment starts with a hash character `#`. This character tells the\n",
    "computer that the rest of the line is a comment, and therefore, that it\n",
    "can ignore everything on that line that follows the `#`.\n",
    "\n",
    "In the next bit of code, we get the *function* we use to get random\n",
    "numbers. The code has four lines. The first and third are comments; the\n",
    "computer ignores them. The second line gets a library we will use in\n",
    "nearly all our examples, and the last line gets the function to generate\n",
    "random numbers. Don’t worry about this code for now, we will come back\n",
    "to it later. For now, assume that, after we run this code, we have a\n",
    "function called `randint`, and a library called `np`."
   ]
  },
  {
   "cell_type": "code",
   "execution_count": null,
   "metadata": {},
   "outputs": [],
   "source": [
    "# Import the numpy library\n",
    "import numpy as np\n",
    "# Get the function to generate random numbers.\n",
    "from numpy.random import randint"
   ]
  },
  {
   "cell_type": "markdown",
   "metadata": {},
   "source": [
    "The core of the program to solve the ambulances problem above begins\n",
    "with this command to the computer:"
   ]
  },
  {
   "cell_type": "code",
   "execution_count": null,
   "metadata": {},
   "outputs": [],
   "source": [
    "a = randint(1, 11, 12)"
   ]
  },
  {
   "cell_type": "markdown",
   "metadata": {},
   "source": [
    "This uses the `randint` *function* to generate random integers (counting\n",
    "numbers) from 1 up to, *but not including* 11. Therefore, this command\n",
    "will generate random numbers from 1 through 10. The 12 in the command\n",
    "tells the function to generate 12 of these numbers.\n"
   ]
  },
  {
   "cell_type": "markdown",
   "metadata": {},
   "source": [
    "So — the command above orders the computer to randomly generate 12\n",
    "numbers between “1” and “10.” Inasmuch as each ambulance has a 1 in 10\n",
    "chance of being defective, we decide arbitrarily that a “1” stands for a\n",
    "defective ambulance, and the other nine numbers (from “2” to “10”) stand\n",
    "for a not-defective ambulance. The command orders the computer to store\n",
    "the results of the random drawing in a location in the computer’s memory\n",
    "to which we give a name such as `a` or `ambulances`. When we run a\n",
    "statement like the one above, `a` is a *variable* - the *name* `a`\n",
    "refers to the *value*, which is the sequence of random numbers the\n",
    "computer created using `randint`.\n",
    "\n",
    "We can show the value of the variable `a` in the notebook or interactive\n",
    "terminal by using the `print` function:"
   ]
  },
  {
   "cell_type": "code",
   "execution_count": null,
   "metadata": {},
   "outputs": [],
   "source": [
    "print(a)"
   ]
  },
  {
   "cell_type": "markdown",
   "metadata": {},
   "source": [
    "This shows the 12 random values that we got from `randint`.\n",
    "\n",
    "The next key element in the core of the program is:"
   ]
  },
  {
   "cell_type": "code",
   "execution_count": null,
   "metadata": {},
   "outputs": [],
   "source": [
    "b = np.count_nonzero(a == 1)"
   ]
  },
  {
   "cell_type": "markdown",
   "metadata": {},
   "source": [
    "This command orders the computer to count the number of “1’s” among the\n",
    "12 numbers that are in location `a` following the random drawing carried\n",
    "out by the `randint` operation. The result of the count will be\n",
    "somewhere between 0 and 12, the number of ambulances that might be\n",
    "out-of-order on a given day. The result is then placed in another\n",
    "location in the computer’s memory that we label `b`."
   ]
  },
  {
   "cell_type": "code",
   "execution_count": null,
   "metadata": {},
   "outputs": [],
   "source": [
    "# Show the value of b\n",
    "print(b)"
   ]
  },
  {
   "cell_type": "markdown",
   "metadata": {},
   "source": [
    "Now let us place the commands to generate the random numbers, and count\n",
    "how many 1s we get, within the entire program that we use to solve this\n",
    "problem, which is:"
   ]
  },
  {
   "cell_type": "code",
   "execution_count": null,
   "metadata": {},
   "outputs": [],
   "source": [
    "# Make an array that has 400 elements.\n",
    "# We will use this to store the counts for our 400 repetitions\n",
    "results = np.zeros(400)\n",
    "\n",
    "# Repeat the simulation 400 times\n",
    "for i in np.arange(400):\n",
    "\n",
    "    # The indented commands are the procedure for one trial.\n",
    "    # The computer runs these commands from first to last, for each trial.\n",
    "\n",
    "    # Generate 12 numbers, each between \"1\" and \"10,\" and put them in vector a.\n",
    "    # Each number will represent an ambulance, and we let 1 represent\n",
    "    # a defective ambulance.\n",
    "    a = randint(1, 11, 12)\n",
    "\n",
    "    # Count the number of defective ambulances, and put the result in b.\n",
    "    b = np.count_nonzero(a == 1)\n",
    "\n",
    "    # Keep track of each trial's result in \"results\".\n",
    "    results[i] = b\n",
    "\n",
    "    # End this trial, then go back and repeat the process until all 400 trials\n",
    "    # are complete.\n",
    "\n",
    "# Now we have finished the 400 trials.\n",
    "\n",
    "# Determine how many trials resulted in more than 3 ambulances out of order.\n",
    "bad_day_count = np.count_nonzero(results > 3)\n",
    "\n",
    "# Convert to a proportion.\n",
    "bad_day_prop = bad_day_count / 400\n",
    "\n",
    "# Print the result.\n",
    "print(bad_day_prop)"
   ]
  }
 ],
 "metadata": {
  "jupytext": {
   "cell_metadata_filter": "-all",
   "main_language": "python",
   "notebook_metadata_filter": "-all"
  }
 },
 "nbformat": 4,
 "nbformat_minor": 4
}